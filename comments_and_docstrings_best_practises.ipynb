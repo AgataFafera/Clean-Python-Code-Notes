{
 "cells": [
  {
   "cell_type": "markdown",
   "id": "0c0aa8c8-2272-4c3c-b5fe-a2d32d6e82c7",
   "metadata": {},
   "source": [
    "# Comments and Docstrings Best Practises\n",
    "\n",
    "## Comments should be high-level, concise, meaningful, clear, informative and up-to-date."
   ]
  },
  {
   "cell_type": "code",
   "execution_count": null,
   "id": "762a8783-6b6b-4e4b-97fb-6868fb3754f3",
   "metadata": {},
   "outputs": [],
   "source": [
    "distance = 100 # In meters"
   ]
  },
  {
   "cell_type": "markdown",
   "id": "a499ddfc-df49-4730-b476-08b74db1b19e",
   "metadata": {},
   "source": [
    "### Avoid writing too many comments in your code. \n",
    "### Only write comments to describe code that is not self-explanatory. "
   ]
  },
  {
   "cell_type": "markdown",
   "id": "9283a6f8-736c-4860-901e-d41886359108",
   "metadata": {},
   "source": [
    "## Inline comments: \n",
    "- They're comments written in the same line as a code they're commenting on. \n",
    "- They should be separated by at least two spaces from the statement. \n",
    "- They should start with a `#` symbol and a single space.\n",
    "- They should be used sparingly. \n",
    "- They should not state the obvious.\n"
   ]
  },
  {
   "cell_type": "markdown",
   "id": "75c1aa03-c074-4327-be46-99c3dba40eb5",
   "metadata": {},
   "source": [
    "## Block comments: \n",
    "- They're comments that span over multiple lines. \n",
    "- Used to describe multiple lanes of code.\n",
    "- Each line of a block comments starts with a `#` and a single space.\n",
    "- Block comments are intened at the same level as the code they describe.\n",
    "- The paragraphs of a block comment should be separated by a line that starts with only one `#`."
   ]
  },
  {
   "cell_type": "code",
   "execution_count": 1,
   "id": "6454fa93-3156-40cd-945d-d10643d94d32",
   "metadata": {
    "tags": []
   },
   "outputs": [],
   "source": [
    "def example_function(): \n",
    "    # This comments explains what the function does\n",
    "    \n",
    "    pass"
   ]
  },
  {
   "cell_type": "markdown",
   "id": "32452c9e-aeb4-476f-a2c2-5f46c4368856",
   "metadata": {},
   "source": [
    "## Docstring is a special type of comment that is used to document modules, functions, classes and methods.\n",
    "## Write docstrings for all public modules, functions, classes and methods."
   ]
  },
  {
   "cell_type": "code",
   "execution_count": 3,
   "id": "0f484c58-63de-4a65-9369-8a04cb45f6e4",
   "metadata": {
    "tags": []
   },
   "outputs": [
    {
     "name": "stdout",
     "output_type": "stream",
     "text": [
      "Check if the given numbers is even. \n",
      "    \n",
      "    Arguments: \n",
      "        number (int): The number to check.\n",
      "        \n",
      "    Returns: \n",
      "        bool: True if it is even and False when is not.\n",
      "    \n"
     ]
    }
   ],
   "source": [
    "def is_even(number): \n",
    "    \"\"\"Check if the given numbers is even.\n",
    "    \n",
    "        Arguments: \n",
    "            number (int): The number to check.\n",
    "        \n",
    "        Returns: \n",
    "            bool: True if it is even and False when is not.\n",
    "    \"\"\"\n",
    "    \n",
    "    if number % 2 == 0: \n",
    "        return True \n",
    "    else: \n",
    "        return False\n",
    "    \n",
    "print(is_even.__doc__)"
   ]
  },
  {
   "cell_type": "markdown",
   "id": "89920e5b-70b2-4639-bb3a-3383b479b172",
   "metadata": {},
   "source": [
    "## One-line docstring: \n",
    "- Describes the purpose of a function, method, class or module in a single line.\n",
    "- Use triple double quotes around docstrings. `\"\"\"`\n",
    "- Only use one-line docstrings for really simple and obvious cases.\n",
    "- Keep the closing triple quotes on the same line.\n",
    "- Don't include a blank line before or after the docstring.\n",
    "- One-line docstring should end with a period. \n",
    "- One-line docstrings should describe the purpose of the function as a **command**, not a describtion.\n",
    "- One-line docstrings should not be a signature reiterating the parameters and reutrn value."
   ]
  },
  {
   "cell_type": "markdown",
   "id": "c5ed5905-9579-4b34-9cde-c8776465bf71",
   "metadata": {},
   "source": [
    "## Multi-line docstring: \n",
    "- Describes the purpose of a function, method, class or module in a multiple lines.\n",
    "- Use triple double quotes around docstrings. `\"\"\"`\n",
    "- Kee the closing triple quotes on the line by themselves.\n",
    "- The summary line should be on one line and it should be separated from the rest of the docstring.\n",
    "- The summary line should be on the same line as the opening quotes or on the next line.\n",
    "- Multi-line docstrings should be intended at the same level as the quotes on the first line.\n"
   ]
  }
 ],
 "metadata": {
  "kernelspec": {
   "display_name": "Python 3 (ipykernel)",
   "language": "python",
   "name": "python3"
  },
  "language_info": {
   "codemirror_mode": {
    "name": "ipython",
    "version": 3
   },
   "file_extension": ".py",
   "mimetype": "text/x-python",
   "name": "python",
   "nbconvert_exporter": "python",
   "pygments_lexer": "ipython3",
   "version": "3.11.5"
  }
 },
 "nbformat": 4,
 "nbformat_minor": 5
}
