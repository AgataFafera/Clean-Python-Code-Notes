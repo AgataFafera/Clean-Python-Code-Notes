{
 "cells": [
  {
   "cell_type": "markdown",
   "id": "5df1571a-0e29-478a-a383-ec52ab210657",
   "metadata": {},
   "source": [
    "# Indentation overall info "
   ]
  },
  {
   "cell_type": "markdown",
   "id": "172179b4-3299-4748-a576-3489046f3d52",
   "metadata": {},
   "source": [
    "## It is the spacing of code to indicate its logical structure. \n",
    "## It makes code more readable and easy to understand. \n",
    "## In Python, indentation is a part of syntax. \n",
    "## In some programming languages is optional. "
   ]
  },
  {
   "cell_type": "markdown",
   "id": "264ae78d-29ed-468f-971d-5692beb2ea09",
   "metadata": {},
   "source": [
    "# Python Indentation Practises"
   ]
  },
  {
   "cell_type": "markdown",
   "id": "99d804a9-3477-49c4-abf6-cf0495151944",
   "metadata": {},
   "source": [
    "## Use 4 spaces per level of indentation. \n",
    "## Spaces are preferred over tabs. \n",
    "## Python 3 disallows mixing the use of spaces and tabs. "
   ]
  },
  {
   "cell_type": "markdown",
   "id": "961c38eb-65c1-481e-9157-1fefe09d84a4",
   "metadata": {},
   "source": [
    "# Indentation in multi-line conditions"
   ]
  },
  {
   "cell_type": "markdown",
   "id": "41d90b08-16d9-4199-84a5-73072a2b545a",
   "metadata": {},
   "source": [
    "## No extra indentation - WRONG PRACTISE:"
   ]
  },
  {
   "cell_type": "code",
   "execution_count": null,
   "id": "790223ac-a289-41cd-b7fd-6a4b078c7f6a",
   "metadata": {},
   "outputs": [],
   "source": [
    "if (this_is_one_thing and\n",
    "   this_is_other_thing):\n",
    "    do_something"
   ]
  },
  {
   "cell_type": "markdown",
   "id": "455ef149-c21b-4d34-8664-8aa0c268a83c",
   "metadata": {},
   "source": [
    "## Adding some extra indentation on the conditional continuation line - GOOD PRACTISE:"
   ]
  },
  {
   "cell_type": "code",
   "execution_count": null,
   "id": "ae79cbba-82fe-494e-90c4-46f290d9bd9b",
   "metadata": {},
   "outputs": [],
   "source": [
    "if (this_is_one_thing and\n",
    "       this_is_other_thing):\n",
    "    do_something"
   ]
  }
 ],
 "metadata": {
  "kernelspec": {
   "display_name": "Python 3 (ipykernel)",
   "language": "python",
   "name": "python3"
  },
  "language_info": {
   "codemirror_mode": {
    "name": "ipython",
    "version": 3
   },
   "file_extension": ".py",
   "mimetype": "text/x-python",
   "name": "python",
   "nbconvert_exporter": "python",
   "pygments_lexer": "ipython3",
   "version": "3.11.5"
  }
 },
 "nbformat": 4,
 "nbformat_minor": 5
}
