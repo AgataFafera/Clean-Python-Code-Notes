{
 "cells": [
  {
   "cell_type": "markdown",
   "id": "a8634380-d73d-4e25-8eb0-35ae20b7a496",
   "metadata": {},
   "source": [
    "# Line Length Limit"
   ]
  },
  {
   "cell_type": "markdown",
   "id": "5e6dab5c-8c69-4726-ae98-499925450e9e",
   "metadata": {},
   "source": [
    "## The maximum length of the line is 79 characters.\n",
    "## This limit can be increased up to 99, if comments and docstrings are wrapped at 72 characters."
   ]
  },
  {
   "cell_type": "markdown",
   "id": "f1f4e95b-6b85-42a8-9a12-96677bad3669",
   "metadata": {},
   "source": [
    "# Implied continuation"
   ]
  },
  {
   "cell_type": "markdown",
   "id": "5d937fed-b074-4711-93ff-421ac2d79b85",
   "metadata": {
    "tags": []
   },
   "source": [
    "## Long if-else statement"
   ]
  },
  {
   "cell_type": "code",
   "execution_count": null,
   "id": "1d17d920-044a-4bde-8ec9-af0c65d3fd94",
   "metadata": {},
   "outputs": [],
   "source": [
    "x = 10\n",
    "\n",
    "if ((x > 0 and x < 5) \n",
    "   or (x > 10 and x < 15)  \n",
    "   or (x > 20 and x < 25)  \n",
    "   or (x > 30 and x < 35) \n",
    "   or (x > 40 and x < 45) \n",
    "   or (x > 50 and x < 55)  \n",
    "   or (x > 60 and x < 65) \n",
    "   or (x > 70 and x < 75) \n",
    "   or (x > 80 and x < 85)  \n",
    "   or (x > 90 and x < 95)):\n",
    "    print(\"x is within the specified ranges.\")\n",
    "    \n",
    "else:\n",
    "    print(\"x is not within the specified ranges.\")"
   ]
  },
  {
   "cell_type": "markdown",
   "id": "6a59b86e-9e84-4775-9c4d-0e0003d79ccf",
   "metadata": {},
   "source": [
    "## The code is wrapped in a () parentheses which allows to break the code into separate lines for readability."
   ]
  },
  {
   "cell_type": "markdown",
   "id": "3ad8213f-36fa-4f50-8a59-028477e848fb",
   "metadata": {},
   "source": [
    "## Long list"
   ]
  },
  {
   "cell_type": "code",
   "execution_count": null,
   "id": "81afa906-dfa2-4198-8917-9e4c2e95b3e5",
   "metadata": {},
   "outputs": [],
   "source": [
    "student_names = [\n",
    "    'Alice',\n",
    "    'Bob',\n",
    "    'Charlie',\n",
    "    'David',\n",
    "    'Emma',\n",
    "    'Frank',\n",
    "    'Grace',\n",
    "    'Henry',\n",
    "    'Isabel',\n",
    "    'Jack',\n",
    "    'Kate',\n",
    "    'Liam',\n",
    "    'Mia',\n",
    "    'Nathan',\n",
    "    'Olivia',\n",
    "    'Peter',\n",
    "    'Quinn',\n",
    "    'Rachel',\n",
    "    'Samuel',\n",
    "    'Taylor',\n",
    "    'Ursula',\n",
    "    'Victor',\n",
    "    'Wendy',\n",
    "    'Xavier',\n",
    "    'Yvonne',\n",
    "    'Zachary'\n",
    "]"
   ]
  },
  {
   "cell_type": "markdown",
   "id": "1d6db275-c134-4280-9308-f5f2745fe6f8",
   "metadata": {},
   "source": [
    "## You can split a list or a dictionary into more readable multiple lines."
   ]
  },
  {
   "cell_type": "code",
   "execution_count": null,
   "id": "f6385488-1394-432e-8e7a-2e0443d0dd37",
   "metadata": {},
   "outputs": [],
   "source": [
    "x = 10\n",
    "\n",
    "if (x > 0 and x < 5) or \\\n",
    "   (x > 10 and x < 15) or \\\n",
    "   (x > 20 and x < 25) or \\\n",
    "   (x > 30 and x < 35) or \\\n",
    "   (x > 40 and x < 45) or \\\n",
    "   (x > 50 and x < 55) or \\\n",
    "   (x > 60 and x < 65) or \\\n",
    "   (x > 70 and x < 75) or \\\n",
    "   (x > 80 and x < 85) or \\\n",
    "   (x > 90 and x < 95):\n",
    "    print(\"x is within the specified ranges.\")\n",
    "else:\n",
    "    print(\"x is not within the specified ranges.\")\n"
   ]
  },
  {
   "cell_type": "markdown",
   "id": "59dfe3dc-738b-4c73-98b2-339619298d06",
   "metadata": {},
   "source": [
    "## This code uses backslashes to break the lines. However, this is not a recommended practise. It is called an explicit continuation."
   ]
  },
  {
   "cell_type": "markdown",
   "id": "e017992c-ef52-4209-807f-4942feb690b0",
   "metadata": {},
   "source": [
    "# Binary operations and line breaks"
   ]
  },
  {
   "cell_type": "markdown",
   "id": "d64b92b8-64fa-4a5a-a58f-72d666104bf1",
   "metadata": {},
   "source": [
    "## The suggested style is to break the line before the binary operator. "
   ]
  },
  {
   "cell_type": "code",
   "execution_count": null,
   "id": "0528a618-fd18-4757-b596-b3cb31c6919b",
   "metadata": {},
   "outputs": [],
   "source": [
    "force = (constant_of_gravitation \n",
    "         * mass_of_object1 \n",
    "         * mass_of_object2) \n",
    "         / distance ** 2"
   ]
  },
  {
   "cell_type": "markdown",
   "id": "a2ed5d8c-bd16-47ce-9d83-8b5b920324ea",
   "metadata": {},
   "source": [
    "# Compound statements"
   ]
  },
  {
   "cell_type": "markdown",
   "id": "ef4ed704-c209-4f76-9896-b872e84d6f28",
   "metadata": {},
   "source": [
    "## Each clause in the compound statement has a header and a suite. They should be written in separate lines.\n",
    "## It is discouraged to write compound statements in one line. "
   ]
  },
  {
   "cell_type": "markdown",
   "id": "e2928dbf-35b8-46cc-8820-9c2b69f325cc",
   "metadata": {},
   "source": [
    "## GOOD practise: "
   ]
  },
  {
   "cell_type": "code",
   "execution_count": null,
   "id": "3584bca7-5cc9-4014-a3d5-267a4314b9fb",
   "metadata": {},
   "outputs": [],
   "source": [
    "i = 10 \n",
    "\n",
    "if i % 2 == 0: \n",
    "    print(\"It's even\")"
   ]
  },
  {
   "cell_type": "markdown",
   "id": "6461e2fb-41e2-4bfd-bb8f-14822cad2a94",
   "metadata": {},
   "source": [
    "## DISCOURAGED practise:"
   ]
  },
  {
   "cell_type": "code",
   "execution_count": null,
   "id": "2089e842-e5b6-4f5c-8f77-66fecc42fea2",
   "metadata": {},
   "outputs": [],
   "source": [
    "i = 10 \n",
    "\n",
    "if i % 2 == 0: print(\"It's even\")"
   ]
  },
  {
   "cell_type": "markdown",
   "id": "44cdb924-d75f-4616-8e2f-42162a7c3d72",
   "metadata": {},
   "source": [
    "# Blank lines"
   ]
  },
  {
   "cell_type": "markdown",
   "id": "296c615f-ed2c-4695-81cc-acae4c5e60ed",
   "metadata": {},
   "source": [
    "## Blank lines group related code sections or logical sections."
   ]
  },
  {
   "cell_type": "markdown",
   "id": "8924e702-7d7b-480a-b363-d1e7433125ac",
   "metadata": {},
   "source": [
    "## Top level functions and class definitions should be surrounded by two blank lines."
   ]
  },
  {
   "cell_type": "code",
   "execution_count": null,
   "id": "418229ee-ff40-45e2-8a98-f644f896b7f5",
   "metadata": {},
   "outputs": [],
   "source": [
    "\n",
    "\n",
    "def top_level_function(): \n",
    "    pass\n",
    "\n",
    "def another_function(): \n",
    "    pass\n",
    "\n",
    "# The rest of the code goes here"
   ]
  },
  {
   "cell_type": "markdown",
   "id": "a2f5b24b-76c1-48a7-b74d-9f91adee8016",
   "metadata": {},
   "source": [
    "## Definitions inside a class should be surrounded by one blank line."
   ]
  },
  {
   "cell_type": "code",
   "execution_count": null,
   "id": "a110a6ba-08ae-4dff-ab0c-4cafd1d66841",
   "metadata": {},
   "outputs": [],
   "source": [
    "class Calculator:\n",
    "    def add(self, x, y):\n",
    "        return x + y\n",
    "\n",
    "    def subtract(self, x, y):\n",
    "        return x - y\n",
    "\n",
    "    def multiply(self, x, y):\n",
    "        return x * y\n",
    "\n",
    "    def divide(self, x, y):\n",
    "        if y != 0:\n",
    "            return x / y\n",
    "        else:\n",
    "            return \"Error: Division by zero\"\n"
   ]
  },
  {
   "cell_type": "markdown",
   "id": "c6e4a70b-d9db-4999-9087-24364a33fa45",
   "metadata": {},
   "source": [
    "## Use additional blank lines to separate groups of related functions and logical sections."
   ]
  },
  {
   "cell_type": "code",
   "execution_count": null,
   "id": "ea4ef9ad-00f3-47bd-a006-fd7ef391e6c5",
   "metadata": {},
   "outputs": [],
   "source": [
    "def capitalize_and_count(word):\n",
    "    capitalized_word = word.capitalize()\n",
    "    \n",
    "    num_characters = len(word)\n",
    "    \n",
    "    return capitalized_word, num_characters"
   ]
  }
 ],
 "metadata": {
  "kernelspec": {
   "display_name": "Python 3 (ipykernel)",
   "language": "python",
   "name": "python3"
  },
  "language_info": {
   "codemirror_mode": {
    "name": "ipython",
    "version": 3
   },
   "file_extension": ".py",
   "mimetype": "text/x-python",
   "name": "python",
   "nbconvert_exporter": "python",
   "pygments_lexer": "ipython3",
   "version": "3.11.5"
  }
 },
 "nbformat": 4,
 "nbformat_minor": 5
}
