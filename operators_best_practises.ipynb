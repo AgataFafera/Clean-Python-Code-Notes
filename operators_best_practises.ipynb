{
 "cells": [
  {
   "cell_type": "markdown",
   "id": "f65e23ff-e264-45cb-ba91-41fe0d918ece",
   "metadata": {},
   "source": [
    "# Operators best practises"
   ]
  },
  {
   "cell_type": "markdown",
   "id": "c58ccc70-79ec-44b4-90e0-f421fe705acb",
   "metadata": {},
   "source": [
    "## Parentheses are the operators with the highest priority. \n",
    "\n",
    "### It means that any operations enclosed within parentheses will be evaluated before any other operations outside the parentheses."
   ]
  },
  {
   "cell_type": "markdown",
   "id": "8fe1d453-7f79-49de-8ce6-c079101fa94d",
   "metadata": {},
   "source": [
    "## Parentheses best practises: \n",
    "- Do not use too many parentheses. \n",
    "- They can make the expression more difficult to read."
   ]
  },
  {
   "cell_type": "code",
   "execution_count": 2,
   "id": "67c892e5-1156-4b57-9660-3dd494451c1f",
   "metadata": {
    "tags": []
   },
   "outputs": [
    {
     "name": "stdout",
     "output_type": "stream",
     "text": [
      "2.19\n"
     ]
    }
   ],
   "source": [
    "num_likes = 1000 \n",
    "num_comments = 274\n",
    "num_followers = 582\n",
    "\n",
    "average = (num_likes + num_comments) / num_followers\n",
    "print(round(average,2))"
   ]
  },
  {
   "cell_type": "markdown",
   "id": "c8e417d6-e82c-46a9-bbe0-19afcc544a9b",
   "metadata": {},
   "source": [
    "## Chained comparison\n",
    "### It's a way to combine multiple comparisons in the same expression.\n",
    "### Comparison operators can be changed arbitrarily. "
   ]
  },
  {
   "cell_type": "code",
   "execution_count": null,
   "id": "03ce75bc-4075-4808-8089-01ef1db59afe",
   "metadata": {},
   "outputs": [],
   "source": [
    "# Don't do this: \n",
    "(min_temp <= curr_temp) and (curr_temp <= max_temp)\n",
    "\n",
    "# Do this: \n",
    "min_temp <= curr_temp <= max_temp"
   ]
  },
  {
   "cell_type": "markdown",
   "id": "46cd69d8-9425-4ddf-93a7-193258af0aee",
   "metadata": {},
   "source": [
    "## Singleton \n",
    "### It's a class that only have one instance created.\n",
    "### We can only create one object from the class.\n",
    "### Comparisons to singletons like `None` should always be done with `is` or `is not`, never the equality operartos!"
   ]
  },
  {
   "cell_type": "code",
   "execution_count": null,
   "id": "a0bd9e68-317b-4b72-9bb4-0a7024e3ea41",
   "metadata": {},
   "outputs": [],
   "source": [
    "# Bad practise: \n",
    "if order == None:\n",
    "if order != None:\n",
    "\n",
    "# Good practise: \n",
    "if order is None:\n",
    "if order is not None: "
   ]
  },
  {
   "cell_type": "markdown",
   "id": "2463c166-e393-4a86-9508-d09cd317db6e",
   "metadata": {},
   "source": [
    "## The `is` operator compares the identities of the objects. \n",
    "## The `==` operator compares the value of the objects."
   ]
  },
  {
   "cell_type": "markdown",
   "id": "523fd80d-94cd-4333-b155-94de96716467",
   "metadata": {},
   "source": [
    "## Good practise: \n",
    "### Use the `is not` operator rather than `not ... is` to increase readability. "
   ]
  },
  {
   "cell_type": "code",
   "execution_count": null,
   "id": "9d0b3af5-abc3-47d1-86a3-e36f17bb5258",
   "metadata": {},
   "outputs": [],
   "source": [
    "# Bad practise: \n",
    "if not order is None: \n",
    "    \n",
    "# Good practise: \n",
    "if order is not None: "
   ]
  },
  {
   "cell_type": "markdown",
   "id": "7d2b274e-5110-416a-a863-22d3da7d047a",
   "metadata": {},
   "source": [
    "## Truthy and Falsy values\n",
    "### In Python, truthy and falsy values are concepts used to determine the \"truthiness\" or \"falsiness\" of a value in a boolean context, such as in conditional statements (`if`, `while`, etc.)."
   ]
  },
  {
   "cell_type": "markdown",
   "id": "605c9fba-130f-4e5b-8865-3efa78ecc6b6",
   "metadata": {},
   "source": [
    "The following values are considered falsy:\n",
    "- `None`\n",
    "- `False`\n",
    "- Zero of any numeric type: `0`, `0.0`, `0j` (complex zero)\n",
    "- Empty sequences and collections: `''` (empty string), `[]` (empty list), `()` (empty tuple), `{}` (empty dictionary), `set()` (empty set), `range(0)`"
   ]
  },
  {
   "cell_type": "markdown",
   "id": "d2d79b56-94e9-4be4-b05a-2b09d2ec8389",
   "metadata": {},
   "source": [
    "Any value that is not falsy is considered truthy. This includes:\n",
    "- `True`\n",
    "- Non-zero numbers: `1`, `-1`, `3.14`, etc.\n",
    "- Non-empty sequences and collections: `'Hello'`, `[1, 2, 3]`, `(1, 2)`, `{'key': 'value'}`, `{1, 2}`, `range(1, 10)`"
   ]
  },
  {
   "cell_type": "markdown",
   "id": "89def3d0-7488-430a-abac-7ec66566adf2",
   "metadata": {},
   "source": [
    "## You should NOT compare boolean values to `True` and `False` using `=`."
   ]
  },
  {
   "cell_type": "code",
   "execution_count": null,
   "id": "99447ed6-48b5-48d6-ab79-4195864a189d",
   "metadata": {},
   "outputs": [],
   "source": [
    "# Bad practise: \n",
    "if payment_successful == True: \n",
    "    \n",
    "# Good practise: \n",
    "if payment_successful: "
   ]
  }
 ],
 "metadata": {
  "kernelspec": {
   "display_name": "Python 3 (ipykernel)",
   "language": "python",
   "name": "python3"
  },
  "language_info": {
   "codemirror_mode": {
    "name": "ipython",
    "version": 3
   },
   "file_extension": ".py",
   "mimetype": "text/x-python",
   "name": "python",
   "nbconvert_exporter": "python",
   "pygments_lexer": "ipython3",
   "version": "3.11.5"
  }
 },
 "nbformat": 4,
 "nbformat_minor": 5
}
