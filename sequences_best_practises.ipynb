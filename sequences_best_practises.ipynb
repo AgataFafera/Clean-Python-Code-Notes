{
 "cells": [
  {
   "cell_type": "markdown",
   "id": "a37f1e27-a0d8-4bca-826c-77e6e6d90446",
   "metadata": {},
   "source": [
    "# Sequences Best Practises"
   ]
  },
  {
   "cell_type": "markdown",
   "id": "56592f7d-18d5-4369-9c98-71b43046aaaf",
   "metadata": {},
   "source": [
    "## Line up the closing parenthesis/bracket/brace under: \n",
    "- The first non-whitespace character of the last line. \n",
    "- The first non-whitespace character of the first line."
   ]
  },
  {
   "cell_type": "code",
   "execution_count": null,
   "id": "14078cb0-cd47-4033-86e4-f6b6c433049d",
   "metadata": {},
   "outputs": [],
   "source": [
    "numbers = [\n",
    "    1, 2, 3, \n",
    "    4, 5, 6\n",
    "    ]"
   ]
  },
  {
   "cell_type": "code",
   "execution_count": 2,
   "id": "0fb3f0a8-2b64-4e8e-af6c-0138e9aa1341",
   "metadata": {
    "tags": []
   },
   "outputs": [],
   "source": [
    "names = [\n",
    "    \"Anna\", \n",
    "    \"Mark\", \n",
    "    \"Jack\", \n",
    "    \"John\"\n",
    "]"
   ]
  },
  {
   "cell_type": "markdown",
   "id": "8f7611f4-5313-48d6-89ca-a8cd50f1436b",
   "metadata": {},
   "source": [
    "## Use the fact that non empty sequences are True and empty sequences are False."
   ]
  },
  {
   "cell_type": "code",
   "execution_count": null,
   "id": "e2e7d1c5-cc20-4ab4-afa8-0e09d661a5af",
   "metadata": {},
   "outputs": [],
   "source": [
    "# Wrong practise: \n",
    "if len(id_numbers) > 0: \n",
    "    \n",
    "# Good practise: \n",
    "if id_numbers:"
   ]
  },
  {
   "cell_type": "code",
   "execution_count": null,
   "id": "e7c2de1e-6032-4b09-b18b-49a12d9604ba",
   "metadata": {},
   "outputs": [],
   "source": [
    "# Wrong practise: \n",
    "if len(id_numbers) == 0: \n",
    "    \n",
    "# Good practise: \n",
    "if not id_numbers:"
   ]
  },
  {
   "cell_type": "markdown",
   "id": "ae0b9775-f7f3-4c03-a6a2-a2dcedcd550d",
   "metadata": {},
   "source": [
    "## List Comprehensions"
   ]
  },
  {
   "cell_type": "markdown",
   "id": "e550b820-c5ff-44a7-8d78-cba8711cd5be",
   "metadata": {},
   "source": [
    "### List comprehension is a very concise way to create a list based on an iterable. Only one line is needed."
   ]
  },
  {
   "cell_type": "markdown",
   "id": "efb6a0b8-9223-4adf-9fa2-b9e7a40a32cd",
   "metadata": {},
   "source": [
    "### Basic syntax: `[expression for item for iterable]`"
   ]
  },
  {
   "cell_type": "code",
   "execution_count": null,
   "id": "e87b2351-9029-41f4-ad71-305b943a0a28",
   "metadata": {},
   "outputs": [],
   "source": [
    "# For Loop: \n",
    "\n",
    "numbers = [] \n",
    "for i in range(1,11): \n",
    "    numbers.append(i)\n",
    "    \n",
    "# You can write list comprehension instead: \n",
    "\n",
    "numbers = [i for i in range(1,11)]"
   ]
  },
  {
   "cell_type": "markdown",
   "id": "aa9f79c2-e696-42e5-b6f4-f710981be255",
   "metadata": {},
   "source": [
    "## Dictionary Comprehensions "
   ]
  },
  {
   "cell_type": "markdown",
   "id": "732ac2c4-4d6a-451f-8c2b-e863ae15afb1",
   "metadata": {},
   "source": [
    "### Dictionary comprehension is a very concise way to create a dictionary based on an iterable"
   ]
  },
  {
   "cell_type": "markdown",
   "id": "8940f9b7-3aa2-430a-bf23-abb4b9a31c48",
   "metadata": {},
   "source": [
    "### Basic syntax: `{key: value for key, value in iterable}`"
   ]
  },
  {
   "cell_type": "code",
   "execution_count": 3,
   "id": "ce0ee45c-7d72-4497-9cc9-9ff3e25ba15d",
   "metadata": {
    "tags": []
   },
   "outputs": [
    {
     "name": "stdout",
     "output_type": "stream",
     "text": [
      "{1: 1, 2: 4, 3: 9, 4: 16, 5: 25, 6: 36, 7: 49, 8: 64, 9: 81, 10: 100}\n"
     ]
    }
   ],
   "source": [
    "# An example of dictionary comprehension: \n",
    "\n",
    "squares = {number: (number**2) for number in range(1,11)}\n",
    "print(squares)"
   ]
  }
 ],
 "metadata": {
  "kernelspec": {
   "display_name": "Python 3 (ipykernel)",
   "language": "python",
   "name": "python3"
  },
  "language_info": {
   "codemirror_mode": {
    "name": "ipython",
    "version": 3
   },
   "file_extension": ".py",
   "mimetype": "text/x-python",
   "name": "python",
   "nbconvert_exporter": "python",
   "pygments_lexer": "ipython3",
   "version": "3.11.5"
  }
 },
 "nbformat": 4,
 "nbformat_minor": 5
}
