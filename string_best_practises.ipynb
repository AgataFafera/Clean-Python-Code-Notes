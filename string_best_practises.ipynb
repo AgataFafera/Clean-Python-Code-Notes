{
 "cells": [
  {
   "cell_type": "markdown",
   "id": "7bbeecb0-acf8-44a5-a087-64252ddbb6f6",
   "metadata": {},
   "source": [
    "# String best practises"
   ]
  },
  {
   "cell_type": "markdown",
   "id": "43322676-887b-4413-bd15-d930c4e163f1",
   "metadata": {},
   "source": [
    "## You can choose whether you want to use single quotes or double quotes, just use them consistently. "
   ]
  },
  {
   "cell_type": "code",
   "execution_count": null,
   "id": "c02cb9af-5843-41b6-9ddf-9eea6279d8f3",
   "metadata": {},
   "outputs": [],
   "source": [
    "my_string1 = 'Hello World!' \n",
    "# Or \n",
    "my_string2 = \"Hello World!\""
   ]
  },
  {
   "cell_type": "markdown",
   "id": "89b5d61d-e5af-4455-9ba9-45757630a1d9",
   "metadata": {},
   "source": [
    "## If the string contains single or double quotes, define the string with the other type of quote to avoid using backslashes. "
   ]
  },
  {
   "cell_type": "code",
   "execution_count": null,
   "id": "0ed0442b-5605-4f1b-bff1-373f39c16b2f",
   "metadata": {},
   "outputs": [],
   "source": [
    "my_string = \"I'm learnig Python.\""
   ]
  },
  {
   "cell_type": "markdown",
   "id": "6a6d63bb-d1c6-4031-ac98-b760e218e2b3",
   "metadata": {},
   "source": [
    "## In Python we can use single-quoted, double-quoted, or triple-quoted strings. \n",
    "### With triple-quoted strings, we can write multi-line comments and docstrings.\n",
    "### For triple-quoted strings, always use double quote characters to be consistent with the docstring convention."
   ]
  },
  {
   "cell_type": "code",
   "execution_count": null,
   "id": "0ff5cff7-9470-4eca-96ec-658cc1bf6edb",
   "metadata": {},
   "outputs": [],
   "source": [
    "\"\"\" \n",
    "This is a sample string. \n",
    "\n",
    "We are using double quotes. \n",
    "\"\"\""
   ]
  },
  {
   "cell_type": "markdown",
   "id": "5a55da87-7df6-4408-ae23-2552993ecf00",
   "metadata": {},
   "source": [
    "## String slicing is a way to access a subset of characters from a string in Python. \n",
    "### It's a powerful and convenient feature that allows you to create new strings by extracting parts of an existing string using a specific syntax.\n",
    "### Best practises in the string slicing:\n",
    "- In string slicing, the colon should have equal amount of whitespace on either side since it acts a binary operator.\n",
    "- Treat the colon as the operator with the lowest priority. \n",
    "- Do not include space when a slice parameter is omitted."
   ]
  },
  {
   "cell_type": "code",
   "execution_count": null,
   "id": "60944ca5-e2b1-4a2d-ba94-e55bfd5eb580",
   "metadata": {},
   "outputs": [],
   "source": [
    "my_string = \"This is some kind of string\" \n",
    "\n",
    "my_string[0:4]\n",
    "my_string[lower+offset : upper+offset]\n",
    "my_string[::-1]"
   ]
  },
  {
   "cell_type": "markdown",
   "id": "c4fe872e-3742-4967-b192-d798cc4c3436",
   "metadata": {},
   "source": [
    "## String concatenation is the process of joining two or more strings end-to-end to create a new string. \n",
    "## Best string concatenation practises: \n",
    "- Use the `''.join()` method instead of the `+` operator to concatenate strings."
   ]
  },
  {
   "cell_type": "code",
   "execution_count": 3,
   "id": "a5bb31d8-4698-4f84-bb8a-4e071cd81118",
   "metadata": {
    "tags": []
   },
   "outputs": [
    {
     "name": "stdout",
     "output_type": "stream",
     "text": [
      "MMyy  ccoommppuutteerr\n"
     ]
    }
   ],
   "source": [
    "my_string = \"My computer\" \n",
    "print(''.join(char * 2 for char in my_string))"
   ]
  },
  {
   "cell_type": "markdown",
   "id": "be5aacd5-76c3-4e32-adc9-8b606f4cb464",
   "metadata": {},
   "source": [
    "## If you want to check prefixes or suffixes, use `''.startwith()` and `''.endwith()` instead of string slicing."
   ]
  },
  {
   "cell_type": "code",
   "execution_count": 5,
   "id": "500b5237-3e85-4fb2-b67a-fe0732ac911e",
   "metadata": {
    "tags": []
   },
   "outputs": [
    {
     "name": "stdout",
     "output_type": "stream",
     "text": [
      "True\n"
     ]
    }
   ],
   "source": [
    "name = \"Mark\"\n",
    "print(name.startswith(\"M\"))"
   ]
  }
 ],
 "metadata": {
  "kernelspec": {
   "display_name": "Python 3 (ipykernel)",
   "language": "python",
   "name": "python3"
  },
  "language_info": {
   "codemirror_mode": {
    "name": "ipython",
    "version": 3
   },
   "file_extension": ".py",
   "mimetype": "text/x-python",
   "name": "python",
   "nbconvert_exporter": "python",
   "pygments_lexer": "ipython3",
   "version": "3.11.5"
  }
 },
 "nbformat": 4,
 "nbformat_minor": 5
}
