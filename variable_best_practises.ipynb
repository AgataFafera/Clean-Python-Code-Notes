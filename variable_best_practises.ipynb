{
 "cells": [
  {
   "cell_type": "markdown",
   "id": "bac530a9-0cc0-41cf-a1aa-0f82f66c0916",
   "metadata": {
    "tags": []
   },
   "source": [
    "# Naming coventsions in programming \n",
    " \n",
    "## Snake Case \n",
    "\n",
    "first_variable \n",
    "\n",
    "second_case\n",
    "\n",
    "third_divider \n",
    "\n",
    "## Camel Case \n",
    "\n",
    "pizzaDeliveryTime\n",
    "\n",
    "numberCounter\n",
    "\n",
    "workersName\n",
    "\n",
    "## Pascal Case \n",
    "\n",
    "WorkerId\n",
    "\n",
    "StudentsGrade\n",
    "\n",
    "DisplayedMessage\n",
    "\n",
    "## Kebab Case \n",
    "\n",
    "cooking-time\n",
    "\n",
    "water-temperature\n",
    "\n",
    "word-translated\n"
   ]
  },
  {
   "cell_type": "markdown",
   "id": "9e40b03e-dd8a-4fa2-bd85-b3bbbca62c69",
   "metadata": {},
   "source": [
    "# Variables in Python"
   ]
  },
  {
   "cell_type": "markdown",
   "id": "69d4a526-e34e-4156-97e1-83887590c651",
   "metadata": {},
   "source": [
    "### A variable name must start with a letter or an underscore. \n",
    "### A variable name cannot start wit a number. \n",
    "### A variable name can only contain alphanumeric numbers and underscores.\n",
    "### Variable names are case-sensitive. \n",
    "### Variable names cannot contain spaces. \n",
    "### We use snake case. "
   ]
  },
  {
   "cell_type": "code",
   "execution_count": 2,
   "id": "8acbd627-9a65-4cd8-9c71-5d10c8485fcf",
   "metadata": {
    "tags": []
   },
   "outputs": [],
   "source": [
    "number = 10 \n",
    "\n",
    "_telephone_ = 112\n",
    "\n",
    "student1 = \"Anna\""
   ]
  },
  {
   "cell_type": "markdown",
   "id": "e8bdcb3c-4d37-4aeb-b31a-b80e0b840b80",
   "metadata": {},
   "source": [
    "# Variable Naming Best Practises"
   ]
  },
  {
   "cell_type": "markdown",
   "id": "b20771fa-80f8-4816-ad1e-ad5e24617cf6",
   "metadata": {},
   "source": [
    "### Comments should not be needed to explain variable meaning or purpose. \n",
    "### Variable names should describe the values of variables. \n",
    "### Assign meanigfully distinct variable names. \n",
    "### Avoid using abbreviations or acronyms unless they are widely known. \n",
    "### Write pronounceable variable names. \n",
    "### Write searchable variable names. \n",
    "### Minimum length but long enough to be descriptive. "
   ]
  },
  {
   "cell_type": "code",
   "execution_count": null,
   "id": "951c011e-2c26-4172-b979-a174efec3da7",
   "metadata": {},
   "outputs": [],
   "source": [
    "bank_accounts = []\n",
    "\n",
    "gps_coordinates = []\n",
    "\n",
    "student_name = \"Amy\""
   ]
  },
  {
   "cell_type": "markdown",
   "id": "0d905482-1a27-4ad7-9da1-d290d88d8beb",
   "metadata": {},
   "source": [
    "## Important! Avoid using: \n",
    "### lowercase letter el \"l\", \n",
    "### uppercase letter oh \"O\",\n",
    "### uppercase letter eye \"I\""
   ]
  },
  {
   "cell_type": "markdown",
   "id": "0d44e8ac-e46e-4060-b5bc-04316b6b2aff",
   "metadata": {},
   "source": [
    "# Constants "
   ]
  },
  {
   "cell_type": "markdown",
   "id": "2d0a6526-c50a-43e4-b217-3d4f758ed712",
   "metadata": {
    "tags": []
   },
   "source": [
    "### Write them all in capital letters with underscores separating words."
   ]
  },
  {
   "cell_type": "code",
   "execution_count": 4,
   "id": "734f213e-2a60-4b80-ba69-08ede780da0f",
   "metadata": {
    "tags": []
   },
   "outputs": [],
   "source": [
    "SPEED_OF_LIGHT = 299792458\n",
    "\n",
    "GRAVITY = 9.81\n",
    "\n",
    "PLANCK_CONSTANT = 6.62607015E-3"
   ]
  },
  {
   "cell_type": "markdown",
   "id": "7c2161ee-7b9d-455c-b686-b363d544a1a9",
   "metadata": {},
   "source": [
    "# Boolean variables "
   ]
  },
  {
   "cell_type": "markdown",
   "id": "aab31ce9-6abe-4275-b96c-c4ad32a75f0c",
   "metadata": {},
   "source": [
    "### Variables that store Boolean values should start with prefixes \"is\" or \"has\"."
   ]
  },
  {
   "cell_type": "code",
   "execution_count": 5,
   "id": "79062ba1-20aa-4676-8e7e-62eaf2de37c8",
   "metadata": {
    "tags": []
   },
   "outputs": [],
   "source": [
    "is_open = True \n",
    "\n",
    "is_prime = False \n",
    "\n",
    "has_children = True"
   ]
  }
 ],
 "metadata": {
  "kernelspec": {
   "display_name": "Python 3 (ipykernel)",
   "language": "python",
   "name": "python3"
  },
  "language_info": {
   "codemirror_mode": {
    "name": "ipython",
    "version": 3
   },
   "file_extension": ".py",
   "mimetype": "text/x-python",
   "name": "python",
   "nbconvert_exporter": "python",
   "pygments_lexer": "ipython3",
   "version": "3.11.5"
  }
 },
 "nbformat": 4,
 "nbformat_minor": 5
}
