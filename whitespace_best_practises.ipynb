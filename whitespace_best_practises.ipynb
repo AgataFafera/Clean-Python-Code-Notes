{
 "cells": [
  {
   "cell_type": "markdown",
   "id": "4c28cf1c-b389-43b3-94b1-046fa7d38e7f",
   "metadata": {},
   "source": [
    "# Whitespace and variables"
   ]
  },
  {
   "cell_type": "markdown",
   "id": "af38629a-bc07-433f-964f-661550f12424",
   "metadata": {},
   "source": [
    "## Surround the assignment operator with ONE space on either side. "
   ]
  },
  {
   "cell_type": "code",
   "execution_count": null,
   "id": "57408157-7d1b-4d80-9571-2883e07ddb9a",
   "metadata": {},
   "outputs": [],
   "source": [
    "worker_name = \"Katy\""
   ]
  },
  {
   "cell_type": "markdown",
   "id": "8b0742ef-6704-4de1-a189-105099059dc8",
   "metadata": {},
   "source": [
    "## Do not add more than one space to an assignment operator to align it with other operators.\n",
    "## DON'T: "
   ]
  },
  {
   "cell_type": "code",
   "execution_count": 1,
   "id": "182d8363-68c4-4084-ad22-ca28c9b96174",
   "metadata": {
    "tags": []
   },
   "outputs": [],
   "source": [
    "worker_name             = \"John\" \n",
    "worker_id               = 123\n",
    "worker_technical_skills = [\"Python\", \"Linux\", \"Statistic\"]"
   ]
  },
  {
   "cell_type": "markdown",
   "id": "7d0c24c8-2464-4949-b39c-aca6300e65d7",
   "metadata": {},
   "source": [
    "## DO THIS INSTEAD: "
   ]
  },
  {
   "cell_type": "code",
   "execution_count": null,
   "id": "da375c4a-c6be-4c1e-9914-ca6e35a74dbc",
   "metadata": {},
   "outputs": [],
   "source": [
    "worker_name = \"John\" \n",
    "worker_id = 123\n",
    "worker_technical_skills = [\"Python\", \"Linux\", \"Statistic\"]"
   ]
  },
  {
   "cell_type": "markdown",
   "id": "b59b3e69-0a0d-40c5-ae2b-9254ddac3437",
   "metadata": {},
   "source": [
    "# Whitespace and Parentheses, Bracket and Braces"
   ]
  },
  {
   "cell_type": "markdown",
   "id": "408230d6-be73-429c-8006-1ff5e7054383",
   "metadata": {},
   "source": [
    "## Avoid extra whitespace inside parentheses, bracket and braces.\n",
    "## DON'T:"
   ]
  },
  {
   "cell_type": "code",
   "execution_count": 2,
   "id": "0d92061d-1448-4c41-99dd-b4a184c3336d",
   "metadata": {
    "tags": []
   },
   "outputs": [],
   "source": [
    "math_grades = [ 1, 3, 2, 4 ]"
   ]
  },
  {
   "cell_type": "markdown",
   "id": "95097b1a-4ae1-42bb-89ed-a9ba23cf4bc7",
   "metadata": {},
   "source": [
    "## DO THIS INSTEAD:"
   ]
  },
  {
   "cell_type": "code",
   "execution_count": null,
   "id": "0a48ba42-ac86-4c67-b6ca-4f3bb858506e",
   "metadata": {},
   "outputs": [],
   "source": [
    "math_grades = [1, 3, 2, 4]"
   ]
  },
  {
   "cell_type": "markdown",
   "id": "e56009cc-f9ff-421e-b97d-f06c01b1ec37",
   "metadata": {},
   "source": [
    "## Avoid extra whitespace before the open parentheses that starts the argument list of the function call.\n",
    "## DON'T: "
   ]
  },
  {
   "cell_type": "code",
   "execution_count": null,
   "id": "f812593b-1f0d-4c8f-ad99-b62242e58de5",
   "metadata": {},
   "outputs": [],
   "source": [
    "def func (n):\n",
    "    n += 1\n",
    "    return n"
   ]
  },
  {
   "cell_type": "markdown",
   "id": "53001977-bef7-4bf1-b764-a021410dd20c",
   "metadata": {},
   "source": [
    "## DO THIS INSTEAD: "
   ]
  },
  {
   "cell_type": "code",
   "execution_count": null,
   "id": "1792c83e-aa9d-4551-9cdb-d8e36a0064b5",
   "metadata": {},
   "outputs": [],
   "source": [
    "def func(n):\n",
    "    n += 1\n",
    "    return n"
   ]
  },
  {
   "cell_type": "markdown",
   "id": "6ee06c8d-e71a-4de8-bcef-d99fca2bb6d9",
   "metadata": {},
   "source": [
    "## Avoid extra whitespace between a trailing coma and a following close parenthesis.\n",
    "## DON'T:"
   ]
  },
  {
   "cell_type": "code",
   "execution_count": null,
   "id": "56e295fc-8b6c-4708-9600-7533a55b3d9e",
   "metadata": {},
   "outputs": [],
   "source": [
    "workers = (\"John\", )"
   ]
  },
  {
   "cell_type": "markdown",
   "id": "36d78c7d-1bd5-4ac7-8a96-6684694db3ae",
   "metadata": {},
   "source": [
    "## DO THIS INSTEAD:"
   ]
  },
  {
   "cell_type": "code",
   "execution_count": null,
   "id": "e8350d3d-954b-41c8-a926-37b9c1d57e7c",
   "metadata": {},
   "outputs": [],
   "source": [
    "workers = (\"John\",)"
   ]
  },
  {
   "cell_type": "markdown",
   "id": "a911b362-7c81-47ae-aded-017e485253cf",
   "metadata": {},
   "source": [
    "# Whitespace and Commas, Colons and Semicolons"
   ]
  },
  {
   "cell_type": "markdown",
   "id": "d140c3f7-bcac-40cf-b93d-0fe39287b659",
   "metadata": {},
   "source": [
    "## Avoid extra whitespace before a comma, colon or semicolon. \n",
    "## DON'T DO:"
   ]
  },
  {
   "cell_type": "code",
   "execution_count": null,
   "id": "d2b53d9e-e757-4a22-8554-5e348339c2d4",
   "metadata": {},
   "outputs": [],
   "source": [
    "workers = [\"John\" , \"Mary\" , \"Katy\"]"
   ]
  },
  {
   "cell_type": "markdown",
   "id": "6bd5b244-4d1e-46cf-83d2-4199a155968f",
   "metadata": {},
   "source": [
    "## DO THIS INSTEAD (whitespace only AFTER colon):"
   ]
  },
  {
   "cell_type": "code",
   "execution_count": null,
   "id": "1b040169-2b88-4ebb-b68f-47c4ecfbc74a",
   "metadata": {},
   "outputs": [],
   "source": [
    "workers = [\"John\", \"Mary\", \"Katy\"]"
   ]
  },
  {
   "cell_type": "markdown",
   "id": "0089e472-afb3-44a8-827a-021ca3631dff",
   "metadata": {},
   "source": [
    "# Whitespaces and Operators"
   ]
  },
  {
   "cell_type": "markdown",
   "id": "54590d73-0109-45b8-b30a-aa4d44d911ec",
   "metadata": {},
   "source": [
    "## Surround the following operators with a single space on either side.\n",
    "## DON'T:"
   ]
  },
  {
   "cell_type": "code",
   "execution_count": null,
   "id": "816b1984-2267-46e9-ab3a-984717971b44",
   "metadata": {},
   "outputs": [],
   "source": [
    "3*4/2+10\n",
    "percent>50"
   ]
  },
  {
   "cell_type": "markdown",
   "id": "53e8e28a-5b37-46cb-bcc6-5b5fc0ece4cd",
   "metadata": {},
   "source": [
    "## DO THIS INSTEAD:"
   ]
  },
  {
   "cell_type": "code",
   "execution_count": null,
   "id": "ea523f13-9084-45f4-8ebd-0c49c7436e4a",
   "metadata": {},
   "outputs": [],
   "source": [
    "3 * 4 / 2  + 10\n",
    "percent > 50"
   ]
  }
 ],
 "metadata": {
  "kernelspec": {
   "display_name": "Python 3 (ipykernel)",
   "language": "python",
   "name": "python3"
  },
  "language_info": {
   "codemirror_mode": {
    "name": "ipython",
    "version": 3
   },
   "file_extension": ".py",
   "mimetype": "text/x-python",
   "name": "python",
   "nbconvert_exporter": "python",
   "pygments_lexer": "ipython3",
   "version": "3.11.5"
  }
 },
 "nbformat": 4,
 "nbformat_minor": 5
}
